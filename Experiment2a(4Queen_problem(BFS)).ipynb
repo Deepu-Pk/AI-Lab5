{
  "nbformat": 4,
  "nbformat_minor": 0,
  "metadata": {
    "colab": {
      "name": "AI-LAB.ipynb",
      "provenance": [],
      "collapsed_sections": [],
      "authorship_tag": "ABX9TyP38Y4BdLfUD6r6eo+QY7mE",
      "include_colab_link": true
    },
    "kernelspec": {
      "name": "python3",
      "display_name": "Python 3"
    }
  },
  "cells": [
    {
      "cell_type": "markdown",
      "metadata": {
        "id": "view-in-github",
        "colab_type": "text"
      },
      "source": [
        "<a href=\"https://colab.research.google.com/github/Deepu-Pk/AI-Lab5/blob/main/Experiment2a(4Queen_problem(BFS)).ipynb\" target=\"_parent\"><img src=\"https://colab.research.google.com/assets/colab-badge.svg\" alt=\"Open In Colab\"/></a>"
      ]
    },
    {
      "cell_type": "code",
      "metadata": {
        "colab": {
          "base_uri": "https://localhost:8080/",
          "height": 0
        },
        "id": "fH7aRuMhxlZQ",
        "outputId": "7a4f319a-7547-498a-80af-1be9b1bc13e8"
      },
      "source": [
        "# Return a list of solutions to the 4-queens problem on an\n",
        "# 4-by-width board.  A solved board is expressed as a list of\n",
        "# column positions for queens, indexed by row.  \n",
        "# Rows and columns are indexed from zero.\n",
        "import numpy as np\n",
        "\n",
        "def n_queens(n, width):\n",
        "    if n == 0:\n",
        "        return [[]] # one solution, the empty list\n",
        "    else:\n",
        "        return add_queen(n-1, width, n_queens(n-1, width))\n",
        "\n",
        "# Try all ways of adding a queen to a column of row new_row, returning\n",
        "# a list of solutions.  previous_solutions must be a list of new_row-queens\n",
        "# solutions.\n",
        "def add_queen(new_row, width, previous_solutions):\n",
        "    solutions = []\n",
        "    for sol in previous_solutions:\n",
        "        # Try to place a queen on each column on row new_row.\n",
        "        for new_col in range(width):\n",
        "            # print 'trying', new_col, 'on row', new_row\n",
        "            if safe_queen(new_row, new_col, sol):\n",
        "                # No interference, so add this solution to the list.\n",
        "                solutions.append(sol + [new_col])\n",
        "    return solutions\n",
        "\n",
        "# Is it safe to add a queen to sol at (new_row, new_col)?  Return\n",
        "# true if so.  sol must be a solution to the new_row-queens problem.\n",
        "def safe_queen(new_row, new_col, sol):\n",
        "    # Check against each piece on each of the new_row existing rows.\n",
        "    for row in range(new_row):\n",
        "        if (sol[row] == new_col or                  # same column clash\n",
        "            sol[row] + row == new_col + new_row or  # diagonal clash\n",
        "            sol[row] - row == new_col - new_row):   # other diagonal\n",
        "                return 0\n",
        "    return 1\n",
        "solution = []\n",
        "solution1 = np.array([\n",
        "\t[ '_', '_', '_','_' ], \n",
        "\t[ '_', '_', '_','_' ], \n",
        "\t[ '_', '_', '_','_' ],\n",
        "    [ '_', '_', '_','_' ]  \n",
        "    ])\n",
        "solution2 = np.array([\n",
        "\t[ '_', '_', '_','_' ], \n",
        "\t[ '_', '_', '_','_' ], \n",
        "\t[ '_', '_', '_','_' ],\n",
        "    [ '_', '_', '_','_' ]  \n",
        "    ])\n",
        "for sol in n_queens(4,4):\n",
        "   solution.append(sol)\n",
        "#printing solution1\n",
        "print(\"There are two solutions:\")\n",
        "print(\"Solution 1 :\")\n",
        "n = 0\n",
        "while(n<4):\n",
        "    solution1[n][solution[0][n]] = 'Q'\n",
        "    n = n+1\n",
        "print(solution1)\n",
        "\n",
        "#printing solution2\n",
        "print(\"Solution 2 :\")\n",
        "n = 0\n",
        "while(n<4):\n",
        "    solution2[n][solution[1][n]] = 'Q'\n",
        "    n = n+1\n",
        "print(solution2)\n",
        "\n"
      ],
      "execution_count": 1,
      "outputs": [
        {
          "output_type": "stream",
          "text": [
            "There are two solutions:\n",
            "Solution 1 :\n",
            "[['_' 'Q' '_' '_']\n",
            " ['_' '_' '_' 'Q']\n",
            " ['Q' '_' '_' '_']\n",
            " ['_' '_' 'Q' '_']]\n",
            "Solution 2 :\n",
            "[['_' '_' 'Q' '_']\n",
            " ['Q' '_' '_' '_']\n",
            " ['_' '_' '_' 'Q']\n",
            " ['_' 'Q' '_' '_']]\n"
          ],
          "name": "stdout"
        }
      ]
    }
  ]
}